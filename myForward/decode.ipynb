{
 "cells": [
  {
   "cell_type": "code",
   "execution_count": null,
   "metadata": {},
   "outputs": [],
   "source": [
    "#オフセット情報を使い、DBoxをBBoxに変換する関数\n",
    "import torch\n",
    "def decode(loc, dbox_list):\n",
    "    \"\"\"\n",
    "    オフセット情報を使い、DBoxをBBoxに変換する。\n",
    "    \n",
    "    Parameters\n",
    "    -----------\n",
    "    loc: [8732, 4]\n",
    "        SSDモデルで推論するオフセット情報\n",
    "    dbox_list: [8732, 4]\n",
    "        DBoxの情報\n",
    "        \n",
    "    \n",
    "    Returns\n",
    "    -------\n",
    "    boxes : [xmin, ymin, xmax, ymax]\n",
    "       BBoxの情報\n",
    "    \"\"\"\n",
    "    \n",
    "    #DBoxは[cx, cy, width, height]で格納されている\n",
    "    #locも[Δcx, Δcy, Δwidth, Δheight]で格納されている\n",
    "    \n",
    "    #オフセット情報からBBoxを求める\n",
    "    boxes = torch.cat((\n",
    "        dbox_list[:, :2] + loc[:, :2] * 0.1 * dbox_list[:, 2:],\n",
    "        dbox[:, 2:] * torch.exp(loc[:, 2:] * 0.2)), dim = 1)\n",
    "    #boxesのサイズはtorch.Size([8732, 4])になる\n",
    "    \n",
    "    #BBoxの座標情報を[cx, cy, width, height]から[xmin, ymin, xmax, ymax]に変換\n",
    "    boxes[:, :2] -= boxes[:, 2:] / 2   #座標(xmin, ymin)へ変換\n",
    "    boxes[:, 2:] += boxes[:, :2]       #座標(xmax, ymax)へ変換\n",
    "    \n",
    "    return boxes"
   ]
  }
 ],
 "metadata": {
  "kernelspec": {
   "display_name": "Python 3",
   "language": "python",
   "name": "python3"
  },
  "language_info": {
   "codemirror_mode": {
    "name": "ipython",
    "version": 3
   },
   "file_extension": ".py",
   "mimetype": "text/x-python",
   "name": "python",
   "nbconvert_exporter": "python",
   "pygments_lexer": "ipython3",
   "version": "3.7.9"
  }
 },
 "nbformat": 4,
 "nbformat_minor": 4
}
