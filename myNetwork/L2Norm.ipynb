{
 "cells": [
  {
   "cell_type": "code",
   "execution_count": 1,
   "metadata": {},
   "outputs": [],
   "source": [
    "import torch.nn as nn\n",
    "\n",
    "#convC4_3からの出力をscale=20のL2Normで正規化する層\n",
    "class L2Norm(nn.Module):\n",
    "    def __init__(self, input_channels=512, scale=20):\n",
    "        super(L2Norm, self).__init__() #親クラスのコンストラクタを実行\n",
    "        self.weight = nn.Parameter(torch.Tensor(input_channels))\n",
    "        self.scale = scale #パラメータの初期化\n",
    "        self.reset_parameters()\n",
    "        self.eps = 1e-10\n",
    "        \n",
    "    def reset_parameters(self):\n",
    "        '''結合パラメータの大きさscaleに値する初期化を実行'''\n",
    "        init.constant_(self.weight, self.scale) #weightの値がすべてscaleになる\n",
    "        \n",
    "    def forward(self, x):\n",
    "        '''38*38の特徴量に対して、512チャネルにわたって２乗和のルートを求めた\n",
    "        38*38個の値を使用し、各特徴量を正規化してから係数を掛け算する層'''\n",
    "        \n",
    "        #各チャネルにおける38*38個の特徴量のチャネル方向の二乗和を計算し、\n",
    "        #さらにルートを求め、割り算して正規化する\n",
    "        #normのテンソルサイズはtorch.Size([batch_num, 1, 38, 38])になる\n",
    "        norm = x.pow(2).sum(dim=1, keepdim=True).sqrt() + self.eps\n",
    "        x = torch.div(x, norm)\n",
    "        \n",
    "        #係数をかける。係数はチャネルごとに一つで、512個の係数を持つ\n",
    "        #self.weightのテンソルサイズはtorch.Size([512])なので\n",
    "        #torch.Size([batch_num, 512, 38, 38])まで変形する\n",
    "        weights = self.weight.unsqueeze(0).unsqueeze(2).unsqueeze(3).expand_as(x)\n",
    "        out = weights * x\n",
    "        \n",
    "        return out\n",
    "        "
   ]
  },
  {
   "cell_type": "code",
   "execution_count": null,
   "metadata": {},
   "outputs": [],
   "source": []
  },
  {
   "cell_type": "code",
   "execution_count": null,
   "metadata": {},
   "outputs": [],
   "source": []
  }
 ],
 "metadata": {
  "kernelspec": {
   "display_name": "Python 3",
   "language": "python",
   "name": "python3"
  },
  "language_info": {
   "codemirror_mode": {
    "name": "ipython",
    "version": 3
   },
   "file_extension": ".py",
   "mimetype": "text/x-python",
   "name": "python",
   "nbconvert_exporter": "python",
   "pygments_lexer": "ipython3",
   "version": "3.7.9"
  }
 },
 "nbformat": 4,
 "nbformat_minor": 4
}
