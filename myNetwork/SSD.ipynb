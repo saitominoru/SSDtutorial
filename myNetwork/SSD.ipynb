{
 "cells": [
  {
   "cell_type": "code",
   "execution_count": 3,
   "metadata": {},
   "outputs": [],
   "source": [
    "#SSDのクラスを作る\n",
    "import torch.nn as nn\n",
    "from make_vgg import make_vgg\n",
    "from make_extras import make_extras\n",
    "from L2Norm import L2Norm\n",
    "from DBox import DBox\n",
    "from make_loc_conf import make_loc_conf\n",
    "\n",
    "class SSD(nn.Module):\n",
    "    \n",
    "    def __init__(self, phase, cfg):\n",
    "        super(SSD, self).__init__()\n",
    "        \n",
    "        self.phase = phase # train or inference\n",
    "        self.num_classes = cfg[\"num_classes\"] #クラス数21\n",
    "        \n",
    "        #SSDのネットワークを作る\n",
    "        self.vgg = make_vgg()\n",
    "        self.extras = make_extras()\n",
    "        self.L2Norm = L2Norm()\n",
    "        self.loc, self.conf = make_loc_conf(\n",
    "                    cfg[\"num_classes\"], cfg[\"bbox_aspect_num\"])\n",
    "        \n",
    "        #DBoxの作成\n",
    "        dbox = DBox(cfg)\n",
    "        self.dbox_list = dbox.make_dbox_list()\n",
    "        \n",
    "        #推論時はクラス「Detect」を用意する\n",
    "        if phase == 'inference':\n",
    "            self.detect = Detect()\n",
    "       "
   ]
  }
 ],
 "metadata": {
  "kernelspec": {
   "display_name": "Python 3",
   "language": "python",
   "name": "python3"
  },
  "language_info": {
   "codemirror_mode": {
    "name": "ipython",
    "version": 3
   },
   "file_extension": ".py",
   "mimetype": "text/x-python",
   "name": "python",
   "nbconvert_exporter": "python",
   "pygments_lexer": "ipython3",
   "version": "3.7.9"
  }
 },
 "nbformat": 4,
 "nbformat_minor": 4
}
