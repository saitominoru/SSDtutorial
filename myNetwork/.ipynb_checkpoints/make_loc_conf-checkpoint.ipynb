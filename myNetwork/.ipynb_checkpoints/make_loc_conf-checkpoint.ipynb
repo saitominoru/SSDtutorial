{
 "cells": [
  {
   "cell_type": "code",
   "execution_count": null,
   "metadata": {},
   "outputs": [],
   "source": [
    "import torch.nn as nn\n",
    "#デフォルトボックスのオフセットを出力するloc_layers、\n",
    "#デフォルトボックスに対する各クラスの信頼度confidenceを出力するconf_layersを作成\n",
    "\n",
    "def make_loc_conf(num_classes=21, bbox_aspect_num=[4, 6, 6, 6, 4, 4]):\n",
    "    \n",
    "    loc_layers = []\n",
    "    conf_layers = []\n",
    "    \n",
    "    #VGGの22層目、conf4_3(source1)に対する畳込み層\n",
    "    loc_layers += [nn.Conv2d(512, bbox_aspect_num[0] * 4, kernel_size=3, padding=1)]\n",
    "    conf_layers += [nn.Conv2d(512, bbox_aspect_num[0] * num_classes, kernel_size=3, padding=1)]\n",
    "    \n",
    "    #VGGの最終層(source2)に対する畳込み層\n",
    "    loc_layers += [nn.Conv2d(1024, bbox_aspect_num[1] * 4, kernel_size=3, padding=1)]\n",
    "    conf_layers += [nn.Conv2d(1024, bbox_aspect_num[1] * num_classes, kernel_size=2, padding=1)]\n",
    "    \n",
    "    # extraの"
   ]
  }
 ],
 "metadata": {
  "kernelspec": {
   "display_name": "Python 3",
   "language": "python",
   "name": "python3"
  },
  "language_info": {
   "codemirror_mode": {
    "name": "ipython",
    "version": 3
   },
   "file_extension": ".py",
   "mimetype": "text/x-python",
   "name": "python",
   "nbconvert_exporter": "python",
   "pygments_lexer": "ipython3",
   "version": "3.7.9"
  }
 },
 "nbformat": 4,
 "nbformat_minor": 4
}
